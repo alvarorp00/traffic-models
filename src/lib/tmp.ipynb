{
 "cells": [
  {
   "cell_type": "code",
   "execution_count": 13,
   "metadata": {},
   "outputs": [
    {
     "data": {
      "image/png": "[encoded data removed]",
      "text/plain": [
       "<Figure size 432x288 with 1 Axes>"
      ]
     },
     "metadata": {
      "needs_background": "light"
     },
     "output_type": "display_data"
    }
   ],
   "source": [
    "import numpy as np\n",
    "import matplotlib.pyplot as plt\n",
    "data = [[30, 25, 50, 20],\n",
    "[40, 23, 51, 17],\n",
    "[35, 22, 45, 19]]\n",
    "X = np.arange(4)\n",
    "fig = plt.figure()\n",
    "ax = fig.add_axes([0,0,1,1])\n",
    "# ax.bar(X + 0.00, data[0], color = 'b', width = 0.25)\n",
    "# ax.bar(X + 0.25, data[1], color = 'g', width = 0.25)\n",
    "# ax.bar(X + 0.50, data[2], color = 'r', width = 0.25)\n",
    "for i in range(0, 3):\n",
    "    ax.bar(X + i * 0.25, data[i], width=0.25)"
   ]
  },
  {
   "cell_type": "code",
   "execution_count": 3,
   "metadata": {},
   "outputs": [
    {
     "name": "stdout",
     "output_type": "stream",
     "text": [
      "[30, 25, 50, 20]\n"
     ]
    }
   ],
   "source": [
    "print(data[0])"
   ]
  },
  {
   "cell_type": "code",
   "execution_count": 1,
   "metadata": {},
   "outputs": [],
   "source": [
    "import numpy as np\n",
    "import matplotlib.pyplot as plt\n",
    "import os\n",
    "os.environ['TF_CPP_MIN_LOG_LEVEL'] = '3'\n",
    "# import tensorflow as tf  # noqa: E402\n",
    "import tensorflow_probability as tfp  # noqa: E402"
   ]
  },
  {
   "cell_type": "code",
   "execution_count": 4,
   "metadata": {},
   "outputs": [
    {
     "name": "stdout",
     "output_type": "stream",
     "text": [
      "tf.Tensor([4.16128672 4.40986087 9.29349181 3.40719136 3.48322002], shape=(5,), dtype=float64)\n"
     ]
    }
   ],
   "source": [
    "# 4 random locations\n",
    "locations = np.random.uniform(low=0, high=10, size=(4))\n",
    "\n",
    "mixture = tfp.distributions.MixtureSameFamily(\n",
    "    mixture_distribution=tfp.distributions.Categorical(\n",
    "        # equal probability of each component\n",
    "        probs=[0.25, 0.25, 0.25, 0.25]),\n",
    "    components_distribution=tfp.distributions.Normal(\n",
    "        loc=locations,\n",
    "        scale=[0.1, 0.1, 0.1, 0.1]))\n",
    "\n",
    "# 1 sample --> 1 random location\n",
    "\n",
    "print(mixture.sample(5))"
   ]
  },
  {
   "cell_type": "code",
   "execution_count": 7,
   "metadata": {},
   "outputs": [
    {
     "data": {
      "text/plain": [
       "<tf.Tensor: shape=(5, 2), dtype=float64, numpy=\n",
       "array([[0.20375578, 0.3543703 ],\n",
       "       [4.48775951, 3.46998709],\n",
       "       [4.16403041, 0.35797768],\n",
       "       [9.45225468, 0.47992077],\n",
       "       [0.24240299, 4.25758971]])>"
      ]
     },
     "execution_count": 7,
     "metadata": {},
     "output_type": "execute_result"
    }
   ],
   "source": [
    "mixture.sample(sample_shape=(5, 2))"
   ]
  },
  {
   "cell_type": "code",
   "execution_count": 5,
   "metadata": {},
   "outputs": [
    {
     "data": {
      "image/png": "[encoded data removed]",
      "text/plain": [
       "<Figure size 432x288 with 1 Axes>"
      ]
     },
     "metadata": {
      "needs_background": "light"
     },
     "output_type": "display_data"
    }
   ],
   "source": [
    "# Plot sample of animation with plt.pause using random points\n",
    "\n",
    "import numpy as np\n",
    "import matplotlib.pyplot as plt\n",
    "from matplotlib.animation import FuncAnimation\n",
    "\n",
    "x_data = []\n",
    "y_data = []\n",
    "\n",
    "fig, ax = plt.subplots()\n",
    "\n",
    "ax.set_xlim(0, 105)\n",
    "ax.set_ylim(0, 12)\n",
    "line, = ax.plot(0, 0)\n",
    "\n",
    "\n",
    "def animation_frame(i):\n",
    "    x_data.append(i * 10)\n",
    "    y_data.append(i)\n",
    "\n",
    "    line.set_xdata(x_data)\n",
    "    line.set_ydata(y_data)\n",
    "    return line,\n",
    "\n",
    "animation = FuncAnimation(fig, func=animation_frame, frames=np.arange(0, 10, 0.01), interval=10)\n",
    "plt.show()"
   ]
  },
  {
   "cell_type": "code",
   "execution_count": null,
   "metadata": {},
   "outputs": [],
   "source": []
  }
 ],
 "metadata": {
  "kernelspec": {
   "display_name": "sim_env",
   "language": "python",
   "name": "python3"
  },
  "language_info": {
   "codemirror_mode": {
    "name": "ipython",
    "version": 3
   },
   "file_extension": ".py",
   "mimetype": "text/x-python",
   "name": "python",
   "nbconvert_exporter": "python",
   "pygments_lexer": "ipython3",
   "version": "3.9.10"
  },
  "orig_nbformat": 4
 },
 "nbformat": 4,
 "nbformat_minor": 2
}
